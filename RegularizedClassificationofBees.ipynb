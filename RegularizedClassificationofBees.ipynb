{
  "nbformat": 4,
  "nbformat_minor": 0,
  "metadata": {
    "colab": {
      "name": "RegularizedClassificationofBees.ipynb",
      "provenance": [],
      "collapsed_sections": []
    },
    "kernelspec": {
      "display_name": "Python 3",
      "name": "python3"
    },
    "accelerator": "GPU"
  },
  "cells": [
    {
      "cell_type": "markdown",
      "metadata": {
        "id": "YRZJemcdm5Ay"
      },
      "source": [
        "---\n",
        "**Classification of Bees**\n",
        "---"
      ]
    },
    {
      "cell_type": "markdown",
      "metadata": {
        "id": "ynxgzuZ2nwAa"
      },
      "source": [
        "\n",
        "\n",
        "---\n",
        "**Importing Necessary Libraries**\n"
      ]
    },
    {
      "cell_type": "code",
      "metadata": {
        "id": "k74FDux-G5CX"
      },
      "source": [
        "import pandas as pd\n",
        "import numpy as np\n",
        "from keras.preprocessing.image import ImageDataGenerator \n",
        "from keras.models import Sequential \n",
        "from keras.layers import Conv2D, MaxPooling2D \n",
        "from tensorflow.keras import regularizers\n",
        "from keras.layers import Activation, Dropout, Flatten, Dense \n",
        "from keras import backend as K\n",
        "from keras import callbacks\n",
        "import matplotlib.pyplot as plt"
      ],
      "execution_count": null,
      "outputs": []
    },
    {
      "cell_type": "markdown",
      "metadata": {
        "id": "vpVY3sJLmJ-W"
      },
      "source": [
        "\n",
        "\n",
        "---\n",
        "**Uploading Training and Test Sets and Assigning HyperParameters**\n"
      ]
    },
    {
      "cell_type": "code",
      "metadata": {
        "id": "HH73dUp9JYDS"
      },
      "source": [
        "img_width, img_height = 100, 100\n",
        "  \n",
        "train_dir = '/content/drive/MyDrive/DatasetReady/Train'\n",
        "validation_dir = '/content/drive/MyDrive/DatasetReady/Test'\n",
        "nb_train_samples =1000 \n",
        "nb_validation_samples = 250\n",
        "epochs = 50\n",
        "batch_size = 32\n"
      ],
      "execution_count": null,
      "outputs": []
    },
    {
      "cell_type": "code",
      "metadata": {
        "colab": {
          "base_uri": "https://localhost:8080/"
        },
        "id": "5--W7mh0qFJu",
        "outputId": "103e2046-8a72-4ffa-8c98-57fdedaeaef3"
      },
      "source": [
        "train_datagen = ImageDataGenerator(rescale = 1. / 255) \n",
        "test_datagen = ImageDataGenerator(rescale = 1. / 255)\n",
        "  \n",
        "train_generator = train_datagen.flow_from_directory(train_dir, \n",
        "                              target_size =(img_width, img_height), \n",
        "                     batch_size = batch_size, class_mode ='binary') \n",
        "  \n",
        "validation_generator = test_datagen.flow_from_directory( \n",
        "                                    validation_dir, \n",
        "                   target_size =(img_width, img_height), \n",
        "          batch_size = batch_size, class_mode ='binary') "
      ],
      "execution_count": null,
      "outputs": [
        {
          "output_type": "stream",
          "text": [
            "Found 1000 images belonging to 2 classes.\n",
            "Found 250 images belonging to 2 classes.\n"
          ],
          "name": "stdout"
        }
      ]
    },
    {
      "cell_type": "markdown",
      "metadata": {
        "id": "ZCMaBN9Cjrnv"
      },
      "source": [
        "---\n",
        "**Building the Model (VGG16)**\n"
      ]
    },
    {
      "cell_type": "code",
      "metadata": {
        "id": "0JeMWCMjswGf"
      },
      "source": [
        "input_shape = (img_width, img_height, 3) \n",
        "\n",
        "model = Sequential() \n",
        "model.add(Conv2D(32, (2, 2), input_shape=input_shape, kernel_regularizer=regularizers.l2(0.001), bias_regularizer=regularizers.l2(0.001) )) \n",
        "model.add(Activation('relu')) \n",
        "model.add(MaxPooling2D(pool_size=(2, 2))) \n",
        "  \n",
        "model.add(Conv2D(32, (2, 2), kernel_regularizer=regularizers.l2(0.001), bias_regularizer=regularizers.l2(0.001))) \n",
        "model.add(Activation('relu')) \n",
        "model.add(MaxPooling2D(pool_size=(2, 2))) \n",
        "  \n",
        "model.add(Conv2D(64, (2, 2),kernel_regularizer=regularizers.l2(0.001), bias_regularizer=regularizers.l2(0.001))) \n",
        "model.add(Activation('relu')) \n",
        "model.add(MaxPooling2D(pool_size=(2, 2))) \n",
        "  \n",
        "model.add(Flatten()) \n",
        "model.add(Dense(64)) \n",
        "model.add(Activation('relu')) \n",
        "model.add(Dropout(0.5)) \n",
        "model.add(Dense(1)) \n",
        "model.add(Activation('sigmoid'))"
      ],
      "execution_count": null,
      "outputs": []
    },
    {
      "cell_type": "code",
      "metadata": {
        "colab": {
          "base_uri": "https://localhost:8080/"
        },
        "id": "rjDQmYyQTR4P",
        "outputId": "b160d626-09fd-45ae-bf13-3633bcdeef5b"
      },
      "source": [
        "model.summary()\n",
        "model.compile(loss='binary_crossentropy', \n",
        "              optimizer='adam', \n",
        "              metrics=['accuracy']) "
      ],
      "execution_count": null,
      "outputs": [
        {
          "output_type": "stream",
          "text": [
            "Model: \"sequential\"\n",
            "_________________________________________________________________\n",
            "Layer (type)                 Output Shape              Param #   \n",
            "=================================================================\n",
            "conv2d (Conv2D)              (None, 99, 99, 32)        416       \n",
            "_________________________________________________________________\n",
            "activation (Activation)      (None, 99, 99, 32)        0         \n",
            "_________________________________________________________________\n",
            "max_pooling2d (MaxPooling2D) (None, 49, 49, 32)        0         \n",
            "_________________________________________________________________\n",
            "conv2d_1 (Conv2D)            (None, 48, 48, 32)        4128      \n",
            "_________________________________________________________________\n",
            "activation_1 (Activation)    (None, 48, 48, 32)        0         \n",
            "_________________________________________________________________\n",
            "max_pooling2d_1 (MaxPooling2 (None, 24, 24, 32)        0         \n",
            "_________________________________________________________________\n",
            "conv2d_2 (Conv2D)            (None, 23, 23, 64)        8256      \n",
            "_________________________________________________________________\n",
            "activation_2 (Activation)    (None, 23, 23, 64)        0         \n",
            "_________________________________________________________________\n",
            "max_pooling2d_2 (MaxPooling2 (None, 11, 11, 64)        0         \n",
            "_________________________________________________________________\n",
            "flatten (Flatten)            (None, 7744)              0         \n",
            "_________________________________________________________________\n",
            "dense (Dense)                (None, 64)                495680    \n",
            "_________________________________________________________________\n",
            "activation_3 (Activation)    (None, 64)                0         \n",
            "_________________________________________________________________\n",
            "dropout (Dropout)            (None, 64)                0         \n",
            "_________________________________________________________________\n",
            "dense_1 (Dense)              (None, 1)                 65        \n",
            "_________________________________________________________________\n",
            "activation_4 (Activation)    (None, 1)                 0         \n",
            "=================================================================\n",
            "Total params: 508,545\n",
            "Trainable params: 508,545\n",
            "Non-trainable params: 0\n",
            "_________________________________________________________________\n"
          ],
          "name": "stdout"
        }
      ]
    },
    {
      "cell_type": "markdown",
      "metadata": {
        "id": "VvzVOv7Ei5sD"
      },
      "source": [
        "---\n",
        "**Data Augmentation**"
      ]
    },
    {
      "cell_type": "code",
      "metadata": {
        "id": "ue9u6449cekY"
      },
      "source": [
        "dataAugmentaion = ImageDataGenerator(rotation_range = 30, zoom_range = 0.20, \n",
        "fill_mode = \"nearest\", shear_range = 0.20, horizontal_flip = True, \n",
        "width_shift_range = 0.1, height_shift_range = 0.1)"
      ],
      "execution_count": null,
      "outputs": []
    },
    {
      "cell_type": "markdown",
      "metadata": {
        "id": "HS-yyvwFjUyM"
      },
      "source": [
        "\n",
        "\n",
        "---\n",
        "\n",
        "\n",
        "\n",
        "---\n",
        "\n"
      ]
    },
    {
      "cell_type": "code",
      "metadata": {
        "id": "lCOFJLqeLD0P"
      },
      "source": [
        "earlystopping = callbacks.EarlyStopping(monitor=\"val_accuracy\", mode=\"max\", patience=5, restore_best_weights = True)"
      ],
      "execution_count": null,
      "outputs": []
    },
    {
      "cell_type": "markdown",
      "metadata": {
        "id": "jT2TUhkxjau6"
      },
      "source": [
        "---\n",
        "**Model Training**"
      ]
    },
    {
      "cell_type": "code",
      "metadata": {
        "colab": {
          "base_uri": "https://localhost:8080/"
        },
        "id": "IkW2sjK9ZbNm",
        "outputId": "bfbd6923-829e-416a-f75d-b9fe9ecd9b35"
      },
      "source": [
        "model.fit_generator(train_generator, \n",
        "    steps_per_epoch = nb_train_samples // batch_size, \n",
        "    epochs = epochs, validation_data = validation_generator, \n",
        "    validation_steps = nb_validation_samples // batch_size,\n",
        "    callbacks=[earlystopping]) "
      ],
      "execution_count": null,
      "outputs": [
        {
          "output_type": "stream",
          "text": [
            "/usr/local/lib/python3.6/dist-packages/tensorflow/python/keras/engine/training.py:1844: UserWarning: `Model.fit_generator` is deprecated and will be removed in a future version. Please use `Model.fit`, which supports generators.\n",
            "  warnings.warn('`Model.fit_generator` is deprecated and '\n"
          ],
          "name": "stderr"
        },
        {
          "output_type": "stream",
          "text": [
            "Epoch 1/50\n",
            "31/31 [==============================] - 6s 92ms/step - loss: 0.7762 - accuracy: 0.5103 - val_loss: 0.7395 - val_accuracy: 0.6741\n",
            "Epoch 2/50\n",
            "31/31 [==============================] - 2s 79ms/step - loss: 0.7336 - accuracy: 0.5403 - val_loss: 0.6896 - val_accuracy: 0.6429\n",
            "Epoch 3/50\n",
            "31/31 [==============================] - 2s 79ms/step - loss: 0.7135 - accuracy: 0.5930 - val_loss: 0.6613 - val_accuracy: 0.6473\n",
            "Epoch 4/50\n",
            "31/31 [==============================] - 2s 76ms/step - loss: 0.6559 - accuracy: 0.6501 - val_loss: 0.6167 - val_accuracy: 0.7277\n",
            "Epoch 5/50\n",
            "31/31 [==============================] - 2s 78ms/step - loss: 0.6261 - accuracy: 0.7055 - val_loss: 0.5929 - val_accuracy: 0.7455\n",
            "Epoch 6/50\n",
            "31/31 [==============================] - 2s 77ms/step - loss: 0.5674 - accuracy: 0.7294 - val_loss: 0.5604 - val_accuracy: 0.7054\n",
            "Epoch 7/50\n",
            "31/31 [==============================] - 2s 76ms/step - loss: 0.5877 - accuracy: 0.7177 - val_loss: 0.5340 - val_accuracy: 0.7589\n",
            "Epoch 8/50\n",
            "31/31 [==============================] - 2s 75ms/step - loss: 0.5447 - accuracy: 0.7407 - val_loss: 0.5429 - val_accuracy: 0.7723\n",
            "Epoch 9/50\n",
            "31/31 [==============================] - 2s 76ms/step - loss: 0.5359 - accuracy: 0.7627 - val_loss: 0.5436 - val_accuracy: 0.7277\n",
            "Epoch 10/50\n",
            "31/31 [==============================] - 2s 77ms/step - loss: 0.5076 - accuracy: 0.7788 - val_loss: 0.5155 - val_accuracy: 0.7634\n",
            "Epoch 11/50\n",
            "31/31 [==============================] - 2s 75ms/step - loss: 0.4968 - accuracy: 0.7884 - val_loss: 0.4920 - val_accuracy: 0.7902\n",
            "Epoch 12/50\n",
            "31/31 [==============================] - 2s 77ms/step - loss: 0.4631 - accuracy: 0.8014 - val_loss: 0.5255 - val_accuracy: 0.7500\n",
            "Epoch 13/50\n",
            "31/31 [==============================] - 2s 76ms/step - loss: 0.4631 - accuracy: 0.7847 - val_loss: 0.5118 - val_accuracy: 0.7545\n",
            "Epoch 14/50\n",
            "31/31 [==============================] - 2s 78ms/step - loss: 0.4331 - accuracy: 0.8213 - val_loss: 0.5322 - val_accuracy: 0.7723\n",
            "Epoch 15/50\n",
            "31/31 [==============================] - 2s 77ms/step - loss: 0.4700 - accuracy: 0.8040 - val_loss: 0.5293 - val_accuracy: 0.7545\n",
            "Epoch 16/50\n",
            "31/31 [==============================] - 2s 77ms/step - loss: 0.4216 - accuracy: 0.8288 - val_loss: 0.4918 - val_accuracy: 0.7723\n"
          ],
          "name": "stdout"
        },
        {
          "output_type": "execute_result",
          "data": {
            "text/plain": [
              "<tensorflow.python.keras.callbacks.History at 0x7efcc340ad30>"
            ]
          },
          "metadata": {
            "tags": []
          },
          "execution_count": 8
        }
      ]
    },
    {
      "cell_type": "markdown",
      "metadata": {
        "id": "GMo-SowMWZCN"
      },
      "source": [
        "---\n",
        "**Visualizing History For Loss**"
      ]
    },
    {
      "cell_type": "code",
      "metadata": {
        "colab": {
          "base_uri": "https://localhost:8080/",
          "height": 295
        },
        "id": "URHYjhaROHlN",
        "outputId": "3736ee68-2a40-467d-9cd7-77c2b92c5b40"
      },
      "source": [
        "plt.plot(model.history.history['loss'])\n",
        "plt.plot(model.history.history['val_loss'])\n",
        "plt.title('models loss')\n",
        "plt.xlabel('epoch')\n",
        "plt.ylabel('loss')\n",
        "plt.legend(['train', 'test'], loc='upper right')\n",
        "plt.show()"
      ],
      "execution_count": null,
      "outputs": [
        {
          "output_type": "display_data",
          "data": {
            "image/png": "[encoded data removed]",
            "text/plain": [
              "<Figure size 432x288 with 1 Axes>"
            ]
          },
          "metadata": {
            "tags": [],
            "needs_background": "light"
          }
        }
      ]
    },
    {
      "cell_type": "markdown",
      "metadata": {
        "id": "dPlJJj_JWzgI"
      },
      "source": [
        "---\n",
        "**Visualizing History For Accuracy**\n"
      ]
    },
    {
      "cell_type": "code",
      "metadata": {
        "colab": {
          "base_uri": "https://localhost:8080/",
          "height": 295
        },
        "id": "PMBfm0s6W8Eu",
        "outputId": "9c4faf48-1cb1-4ac7-83d5-710867e2ae6f"
      },
      "source": [
        "plt.plot(model.history.history['accuracy'])\n",
        "plt.plot(model.history.history['val_accuracy'])\n",
        "plt.title('model accuracy')\n",
        "plt.xlabel('epoch')\n",
        "plt.ylabel('accuracy')\n",
        "plt.legend(['train', 'test'], loc='upper left')\n",
        "plt.show()"
      ],
      "execution_count": null,
      "outputs": [
        {
          "output_type": "display_data",
          "data": {
            "image/png": "[encoded data removed]",
            "text/plain": [
              "<Figure size 432x288 with 1 Axes>"
            ]
          },
          "metadata": {
            "tags": [],
            "needs_background": "light"
          }
        }
      ]
    }
  ]
}