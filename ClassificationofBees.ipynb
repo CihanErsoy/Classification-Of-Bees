{
  "nbformat": 4,
  "nbformat_minor": 0,
  "metadata": {
    "colab": {
      "name": "ClassificationofBees.ipynb",
      "provenance": [],
      "collapsed_sections": []
    },
    "kernelspec": {
      "display_name": "Python 3",
      "name": "python3"
    },
    "accelerator": "GPU"
  },
  "cells": [
    {
      "cell_type": "markdown",
      "metadata": {
        "id": "YRZJemcdm5Ay"
      },
      "source": [
        "---\n",
        "**Classification of Bees**\n",
        "---"
      ]
    },
    {
      "cell_type": "markdown",
      "metadata": {
        "id": "ynxgzuZ2nwAa"
      },
      "source": [
        "\n",
        "\n",
        "---\n",
        "**Importing Necessary Libraries**\n"
      ]
    },
    {
      "cell_type": "code",
      "metadata": {
        "id": "k74FDux-G5CX"
      },
      "source": [
        "import pandas as pd\n",
        "import numpy as np\n",
        "import os\n",
        "\n",
        "from keras.preprocessing.image import ImageDataGenerator \n",
        "from keras.models import Sequential \n",
        "from keras.layers import Conv2D, MaxPooling2D \n",
        "from keras.layers import Activation, Dropout, Flatten, Dense \n",
        "from keras import backend as K"
      ],
      "execution_count": 1,
      "outputs": []
    },
    {
      "cell_type": "markdown",
      "metadata": {
        "id": "vpVY3sJLmJ-W"
      },
      "source": [
        "\n",
        "\n",
        "---\n",
        "**Uploading Training and Test Sets and Assigning HyperParameters**\n"
      ]
    },
    {
      "cell_type": "code",
      "metadata": {
        "id": "HH73dUp9JYDS"
      },
      "source": [
        "img_width, img_height = 50, 50\n",
        "  \n",
        "train_dir = '/content/drive/MyDrive/DatasetReady/Train'\n",
        "validation_dir = '/content/drive/MyDrive/DatasetReady/Test'\n",
        "nb_train_samples =1000 \n",
        "nb_validation_samples = 250\n",
        "epochs = 10\n",
        "batch_size = 16\n"
      ],
      "execution_count": 2,
      "outputs": []
    },
    {
      "cell_type": "code",
      "metadata": {
        "colab": {
          "base_uri": "https://localhost:8080/"
        },
        "id": "5--W7mh0qFJu",
        "outputId": "1e5ffb9f-7909-49ac-b5d0-0c16a93f9f29"
      },
      "source": [
        "train_datagen = ImageDataGenerator(rescale = 1. / 255) \n",
        "test_datagen = ImageDataGenerator(rescale = 1. / 255)\n",
        "  \n",
        "train_generator = train_datagen.flow_from_directory(train_dir, \n",
        "                              target_size =(img_width, img_height), \n",
        "                     batch_size = 8, class_mode ='binary') \n",
        "  \n",
        "validation_generator = test_datagen.flow_from_directory( \n",
        "                                    validation_dir, \n",
        "                   target_size =(img_width, img_height), \n",
        "          batch_size = 8, class_mode ='binary') "
      ],
      "execution_count": 3,
      "outputs": [
        {
          "output_type": "stream",
          "text": [
            "Found 1000 images belonging to 2 classes.\n",
            "Found 250 images belonging to 2 classes.\n"
          ],
          "name": "stdout"
        }
      ]
    },
    {
      "cell_type": "markdown",
      "metadata": {
        "id": "ZCMaBN9Cjrnv"
      },
      "source": [
        "---\n",
        "**Building the Model (VGG16)**\n"
      ]
    },
    {
      "cell_type": "code",
      "metadata": {
        "id": "0JeMWCMjswGf"
      },
      "source": [
        "input_shape = (img_width, img_height, 3) \n",
        "\n",
        "model = Sequential() \n",
        "model.add(Conv2D(32, (2, 2), input_shape=input_shape)) \n",
        "model.add(Activation('relu')) \n",
        "model.add(MaxPooling2D(pool_size=(2, 2))) \n",
        "  \n",
        "model.add(Conv2D(32, (2, 2))) \n",
        "model.add(Activation('relu')) \n",
        "model.add(MaxPooling2D(pool_size=(2, 2))) \n",
        "  \n",
        "model.add(Conv2D(64, (2, 2))) \n",
        "model.add(Activation('relu')) \n",
        "model.add(MaxPooling2D(pool_size=(2, 2))) \n",
        "  \n",
        "model.add(Flatten()) \n",
        "model.add(Dense(64)) \n",
        "model.add(Activation('relu')) \n",
        "model.add(Dropout(0.5)) \n",
        "model.add(Dense(1)) \n",
        "model.add(Activation('sigmoid'))"
      ],
      "execution_count": 4,
      "outputs": []
    },
    {
      "cell_type": "code",
      "metadata": {
        "colab": {
          "base_uri": "https://localhost:8080/"
        },
        "id": "rjDQmYyQTR4P",
        "outputId": "9c84c3ce-93af-483d-8fe6-baf67f7f954d"
      },
      "source": [
        "model.summary()\n",
        "model.compile(loss='binary_crossentropy', \n",
        "              optimizer='adam', \n",
        "              metrics=['accuracy']) "
      ],
      "execution_count": 5,
      "outputs": [
        {
          "output_type": "stream",
          "text": [
            "Model: \"sequential\"\n",
            "_________________________________________________________________\n",
            "Layer (type)                 Output Shape              Param #   \n",
            "=================================================================\n",
            "conv2d (Conv2D)              (None, 49, 49, 32)        416       \n",
            "_________________________________________________________________\n",
            "activation (Activation)      (None, 49, 49, 32)        0         \n",
            "_________________________________________________________________\n",
            "max_pooling2d (MaxPooling2D) (None, 24, 24, 32)        0         \n",
            "_________________________________________________________________\n",
            "conv2d_1 (Conv2D)            (None, 23, 23, 32)        4128      \n",
            "_________________________________________________________________\n",
            "activation_1 (Activation)    (None, 23, 23, 32)        0         \n",
            "_________________________________________________________________\n",
            "max_pooling2d_1 (MaxPooling2 (None, 11, 11, 32)        0         \n",
            "_________________________________________________________________\n",
            "conv2d_2 (Conv2D)            (None, 10, 10, 64)        8256      \n",
            "_________________________________________________________________\n",
            "activation_2 (Activation)    (None, 10, 10, 64)        0         \n",
            "_________________________________________________________________\n",
            "max_pooling2d_2 (MaxPooling2 (None, 5, 5, 64)          0         \n",
            "_________________________________________________________________\n",
            "flatten (Flatten)            (None, 1600)              0         \n",
            "_________________________________________________________________\n",
            "dense (Dense)                (None, 64)                102464    \n",
            "_________________________________________________________________\n",
            "activation_3 (Activation)    (None, 64)                0         \n",
            "_________________________________________________________________\n",
            "dropout (Dropout)            (None, 64)                0         \n",
            "_________________________________________________________________\n",
            "dense_1 (Dense)              (None, 1)                 65        \n",
            "_________________________________________________________________\n",
            "activation_4 (Activation)    (None, 1)                 0         \n",
            "=================================================================\n",
            "Total params: 115,329\n",
            "Trainable params: 115,329\n",
            "Non-trainable params: 0\n",
            "_________________________________________________________________\n"
          ],
          "name": "stdout"
        }
      ]
    },
    {
      "cell_type": "markdown",
      "metadata": {
        "id": "VvzVOv7Ei5sD"
      },
      "source": [
        "---\n",
        "**Data Augmentation**"
      ]
    },
    {
      "cell_type": "code",
      "metadata": {
        "id": "ue9u6449cekY"
      },
      "source": [
        "dataAugmentaion = ImageDataGenerator(rotation_range = 30, zoom_range = 0.20, \n",
        "fill_mode = \"nearest\", shear_range = 0.20, horizontal_flip = True, \n",
        "width_shift_range = 0.1, height_shift_range = 0.1)"
      ],
      "execution_count": 6,
      "outputs": []
    },
    {
      "cell_type": "markdown",
      "metadata": {
        "id": "HS-yyvwFjUyM"
      },
      "source": [
        "\n",
        "\n",
        "---\n",
        "\n",
        "\n",
        "\n",
        "---\n",
        "\n"
      ]
    },
    {
      "cell_type": "markdown",
      "metadata": {
        "id": "jT2TUhkxjau6"
      },
      "source": [
        "---\n",
        "**Model Training**"
      ]
    },
    {
      "cell_type": "code",
      "metadata": {
        "colab": {
          "base_uri": "https://localhost:8080/"
        },
        "id": "IkW2sjK9ZbNm",
        "outputId": "10ca9e40-212a-4124-a9a1-4bcb1c1f43fb"
      },
      "source": [
        "model.fit_generator(train_generator, \n",
        "    steps_per_epoch = nb_train_samples // batch_size, \n",
        "    epochs = epochs, validation_data = validation_generator, \n",
        "    validation_steps = nb_validation_samples // batch_size) "
      ],
      "execution_count": 7,
      "outputs": [
        {
          "output_type": "stream",
          "text": [
            "WARNING:tensorflow:From <ipython-input-7-cee21e6e22a3>:4: Model.fit_generator (from tensorflow.python.keras.engine.training) is deprecated and will be removed in a future version.\n",
            "Instructions for updating:\n",
            "Please use Model.fit, which supports generators.\n",
            "Epoch 1/10\n",
            "62/62 [==============================] - 315s 5s/step - loss: 0.6988 - accuracy: 0.5101 - val_loss: 0.6872 - val_accuracy: 0.5250\n",
            "Epoch 2/10\n",
            "62/62 [==============================] - 156s 3s/step - loss: 0.6904 - accuracy: 0.5464 - val_loss: 0.6691 - val_accuracy: 0.5750\n",
            "Epoch 3/10\n",
            "62/62 [==============================] - 75s 1s/step - loss: 0.6429 - accuracy: 0.6270 - val_loss: 0.6485 - val_accuracy: 0.7167\n",
            "Epoch 4/10\n",
            "62/62 [==============================] - 38s 614ms/step - loss: 0.6125 - accuracy: 0.6794 - val_loss: 0.6560 - val_accuracy: 0.6250\n",
            "Epoch 5/10\n",
            "62/62 [==============================] - 22s 353ms/step - loss: 0.6132 - accuracy: 0.6976 - val_loss: 0.5449 - val_accuracy: 0.7417\n",
            "Epoch 6/10\n",
            "62/62 [==============================] - 12s 191ms/step - loss: 0.5572 - accuracy: 0.7560 - val_loss: 0.6062 - val_accuracy: 0.7000\n",
            "Epoch 7/10\n",
            "62/62 [==============================] - 5s 86ms/step - loss: 0.5985 - accuracy: 0.6976 - val_loss: 0.5466 - val_accuracy: 0.7750\n",
            "Epoch 8/10\n",
            "62/62 [==============================] - 1s 20ms/step - loss: 0.5399 - accuracy: 0.7339 - val_loss: 0.5458 - val_accuracy: 0.7417\n",
            "Epoch 9/10\n",
            "62/62 [==============================] - 2s 37ms/step - loss: 0.5485 - accuracy: 0.7379 - val_loss: 0.5359 - val_accuracy: 0.7583\n",
            "Epoch 10/10\n",
            "62/62 [==============================] - 4s 63ms/step - loss: 0.5366 - accuracy: 0.7601 - val_loss: 0.4686 - val_accuracy: 0.7833\n"
          ],
          "name": "stdout"
        },
        {
          "output_type": "execute_result",
          "data": {
            "text/plain": [
              "<tensorflow.python.keras.callbacks.History at 0x7fe71ed815c0>"
            ]
          },
          "metadata": {
            "tags": []
          },
          "execution_count": 7
        }
      ]
    }
  ]
}