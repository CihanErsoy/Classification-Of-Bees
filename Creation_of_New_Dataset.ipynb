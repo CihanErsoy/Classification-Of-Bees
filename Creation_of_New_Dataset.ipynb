{
 "cells": [
  {
   "cell_type": "code",
   "execution_count": 1,
   "metadata": {},
   "outputs": [],
   "source": [
    "import pandas as pd\n",
    "import numpy as np\n",
    "\n",
    "import os\n",
    "\n",
    "import matplotlib.pyplot as plt\n",
    "\n",
    "from PIL import Image\n",
    "from pathlib import Path\n",
    "%matplotlib inline"
   ]
  },
  {
   "cell_type": "code",
   "execution_count": 2,
   "metadata": {},
   "outputs": [],
   "source": [
    "def get_image(row_id, root=\"/home/cihan/Desktop/Image-Processing-2/Dataset/train\"):\n",
    "    \"\"\"\n",
    "    Converts an image number into the file path where the image is located, \n",
    "    opens the image, and returns the image as a numpy array.\n",
    "    \"\"\"\n",
    "    filename = \"{}.jpg\".format(row_id)\n",
    "    file_path = os.path.join(root, filename)\n",
    "    img = Image.open(file_path)\n",
    "    return np.array(img)"
   ]
  },
  {
   "cell_type": "code",
   "execution_count": 3,
   "metadata": {},
   "outputs": [],
   "source": [
    "labels = pd.read_csv('/home/cihan/Desktop/Image-Processing-2/Dataset/train_labels.csv', index_col=0) "
   ]
  },
  {
   "cell_type": "code",
   "execution_count": 4,
   "metadata": {},
   "outputs": [
    {
     "data": {
      "text/html": [
       "<div>\n",
       "<style scoped>\n",
       "    .dataframe tbody tr th:only-of-type {\n",
       "        vertical-align: middle;\n",
       "    }\n",
       "\n",
       "    .dataframe tbody tr th {\n",
       "        vertical-align: top;\n",
       "    }\n",
       "\n",
       "    .dataframe thead th {\n",
       "        text-align: right;\n",
       "    }\n",
       "</style>\n",
       "<table border=\"1\" class=\"dataframe\">\n",
       "  <thead>\n",
       "    <tr style=\"text-align: right;\">\n",
       "      <th></th>\n",
       "      <th>genus</th>\n",
       "    </tr>\n",
       "    <tr>\n",
       "      <th>id</th>\n",
       "      <th></th>\n",
       "    </tr>\n",
       "  </thead>\n",
       "  <tbody>\n",
       "    <tr>\n",
       "      <th>520</th>\n",
       "      <td>1.0</td>\n",
       "    </tr>\n",
       "    <tr>\n",
       "      <th>3800</th>\n",
       "      <td>1.0</td>\n",
       "    </tr>\n",
       "    <tr>\n",
       "      <th>3289</th>\n",
       "      <td>1.0</td>\n",
       "    </tr>\n",
       "    <tr>\n",
       "      <th>2695</th>\n",
       "      <td>1.0</td>\n",
       "    </tr>\n",
       "    <tr>\n",
       "      <th>4922</th>\n",
       "      <td>1.0</td>\n",
       "    </tr>\n",
       "    <tr>\n",
       "      <th>...</th>\n",
       "      <td>...</td>\n",
       "    </tr>\n",
       "    <tr>\n",
       "      <th>4743</th>\n",
       "      <td>1.0</td>\n",
       "    </tr>\n",
       "    <tr>\n",
       "      <th>2787</th>\n",
       "      <td>1.0</td>\n",
       "    </tr>\n",
       "    <tr>\n",
       "      <th>3081</th>\n",
       "      <td>1.0</td>\n",
       "    </tr>\n",
       "    <tr>\n",
       "      <th>128</th>\n",
       "      <td>0.0</td>\n",
       "    </tr>\n",
       "    <tr>\n",
       "      <th>2636</th>\n",
       "      <td>0.0</td>\n",
       "    </tr>\n",
       "  </tbody>\n",
       "</table>\n",
       "<p>3969 rows × 1 columns</p>\n",
       "</div>"
      ],
      "text/plain": [
       "      genus\n",
       "id         \n",
       "520     1.0\n",
       "3800    1.0\n",
       "3289    1.0\n",
       "2695    1.0\n",
       "4922    1.0\n",
       "...     ...\n",
       "4743    1.0\n",
       "2787    1.0\n",
       "3081    1.0\n",
       "128     0.0\n",
       "2636    0.0\n",
       "\n",
       "[3969 rows x 1 columns]"
      ]
     },
     "execution_count": 4,
     "metadata": {},
     "output_type": "execute_result"
    }
   ],
   "source": [
    "labels"
   ]
  },
  {
   "cell_type": "code",
   "execution_count": 5,
   "metadata": {},
   "outputs": [
    {
     "data": {
      "text/plain": [
       "3800"
      ]
     },
     "execution_count": 5,
     "metadata": {},
     "output_type": "execute_result"
    }
   ],
   "source": [
    "labels[labels.genus == 1.0].index[1]"
   ]
  },
  {
   "cell_type": "code",
   "execution_count": 6,
   "metadata": {},
   "outputs": [],
   "source": [
    "for i in range(500):\n",
    "    honey_bee_id = labels[labels.genus == 1.0].index[i]\n",
    "    honey_bee_path= \"/home/cihan/Desktop/Train_Dataset/apis_train/{}.jpg\".format(i+1)\n",
    "    path = \"/home/cihan/Desktop/Image-Processing-2/Dataset/train/{}.jpg\".format(honey_bee_id)\n",
    "    img = Image.open(path)\n",
    "    img.save(honey_bee_path)"
   ]
  },
  {
   "cell_type": "code",
   "execution_count": 7,
   "metadata": {},
   "outputs": [],
   "source": [
    "for j in range(501):\n",
    "    \n",
    "    bombus_bee_id = labels[labels.genus == 0.0].index[j]\n",
    "    bombus_bee_path= \"/home/cihan/Desktop/Train_Dataset/bombus_train/{}.jpg\".format(j+1)\n",
    "    path = \"/home/cihan/Desktop/Image-Processing-2/Dataset/train/{}.jpg\".format(bombus_bee_id)\n",
    "    img = Image.open(path)\n",
    "    try:\n",
    "        img.save(bombus_bee_path)\n",
    "    except: \n",
    "        pass"
   ]
  },
  {
   "cell_type": "code",
   "execution_count": 10,
   "metadata": {},
   "outputs": [],
   "source": [
    "for k in range(500,625):\n",
    "    honey_bee_id = labels[labels.genus == 1.0].index[k]\n",
    "    honey_bee_path= \"/home/cihan/Desktop/Test_Dataset/apis_test/{}.jpg\".format(k-499)\n",
    "    path = \"/home/cihan/Desktop/Image-Processing-2/Dataset/train/{}.jpg\".format(honey_bee_id)\n",
    "    img = Image.open(path)\n",
    "    img.save(honey_bee_path)"
   ]
  },
  {
   "cell_type": "code",
   "execution_count": 12,
   "metadata": {},
   "outputs": [],
   "source": [
    "for l in range(501,626):\n",
    "    \n",
    "    bombus_bee_id = labels[labels.genus == 0.0].index[l]\n",
    "    bombus_bee_path= \"/home/cihan/Desktop/Test_Dataset/bombus_test/{}.jpg\".format(l-500)\n",
    "    path = \"/home/cihan/Desktop/Image-Processing-2/Dataset/train/{}.jpg\".format(bombus_bee_id)\n",
    "    img = Image.open(path)\n",
    "    img.save(bombus_bee_path)"
   ]
  },
  {
   "cell_type": "code",
   "execution_count": null,
   "metadata": {},
   "outputs": [],
   "source": []
  }
 ],
 "metadata": {
  "kernelspec": {
   "display_name": "Python 3",
   "language": "python",
   "name": "python3"
  },
  "language_info": {
   "codemirror_mode": {
    "name": "ipython",
    "version": 3
   },
   "file_extension": ".py",
   "mimetype": "text/x-python",
   "name": "python",
   "nbconvert_exporter": "python",
   "pygments_lexer": "ipython3",
   "version": "3.6.12"
  }
 },
 "nbformat": 4,
 "nbformat_minor": 4
}
